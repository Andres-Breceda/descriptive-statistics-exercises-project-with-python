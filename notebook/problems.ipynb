{
    "cells": [
        {
            "cell_type": "markdown",
            "id": "ac622319",
            "metadata": {},
            "source": [
                "# Descriptive statistics problems"
            ]
        },
        {
            "cell_type": "markdown",
            "id": "5e0ab0d5",
            "metadata": {},
            "source": [
                "### Exercise 1\n",
                "\n",
                "We will use NumPy to obtain information to describe statistically.\n",
                "\n",
                "- Generate an array of 100 elements following a normal distribution.\n",
                "- Generate an array of 100 elements following a chi-square distribution with 3 degrees of freedom.\n",
                "- Calculate the main metrics and statistical measures that best describe the two vectors."
            ]
        },
        {
            "cell_type": "code",
            "execution_count": null,
            "id": "34720ab6",
            "metadata": {},
            "outputs": [
                {
                    "name": "stdout",
                    "output_type": "stream",
                    "text": [
                        "Distribución Normal:\n",
                        "Media: 0.034\n",
                        "Mediana: 0.006\n",
                        "Desviación estándar: 1.046\n",
                        "Varianza: 1.094\n",
                        "Máximo valor: 3.054\n",
                        "Índice del máximo valor: 31.000\n",
                        "Mínimo valor: -2.280\n",
                        "Índice del mínimo valor: 35.000\n",
                        "Suma de todos los elementos: 3.357\n",
                        "Percentil 25: -0.602\n",
                        "Percentil 75: 0.765\n",
                        "Asimetría: 0.087\n",
                        "Curtosis: 0.210\n",
                        "\n",
                        "Distribución Chi-Cuadrado:\n",
                        "Media: 2.973\n",
                        "Mediana: 2.313\n",
                        "Desviación estándar: 2.328\n",
                        "Varianza: 5.420\n",
                        "Máximo valor: 10.260\n",
                        "Índice del máximo valor: 36.000\n",
                        "Mínimo valor: 0.105\n",
                        "Índice del mínimo valor: 61.000\n",
                        "Suma de todos los elementos: 297.292\n",
                        "Percentil 25: 1.141\n",
                        "Percentil 75: 4.274\n",
                        "Asimetría: 1.113\n",
                        "Curtosis: 0.676\n"
                    ]
                }
            ],
            "source": [
                "import numpy as np\n",
                "\n",
                "#- Calculate the main metrics and statistical measures that best describe the two vectors.\n",
                "\n",
                "import numpy as np\n",
                "from scipy.stats import skew, kurtosis\n",
                "\n",
                "def staticalmeasures(array):\n",
                "    return {\n",
                "        \"Media\": np.mean(array),\n",
                "        \"Mediana\": np.median(array),\n",
                "        \"Desviación estándar\": np.std(array),\n",
                "        \"Varianza\": np.var(array),\n",
                "        \"Máximo valor\": np.max(array),\n",
                "        \"Índice del máximo valor\": np.argmax(array),\n",
                "        \"Mínimo valor\": np.min(array),\n",
                "        \"Índice del mínimo valor\": np.argmin(array),\n",
                "        \"Suma de todos los elementos\": np.sum(array),\n",
                "        \"Percentil 25\": np.percentile(array, 25),\n",
                "        \"Percentil 75\": np.percentile(array, 75),\n",
                "        \"Asimetría\": skew(array),\n",
                "        \"Curtosis\": kurtosis(array, fisher=True)  # Fisher=True para curtosis \"exceso\" (0 en normal)\n",
                "    }\n",
                "\n",
                "# Generar datos de prueba\n",
                "normal_dist = np.random.normal(loc=0, scale=1, size=100)\n",
                "chi_square_dist = np.random.chisquare(df=3, size=100)\n",
                "\n",
                "# Calcular estadísticas\n",
                "distribucion_normal = staticalmeasures(normal_dist)\n",
                "distribucion_chi_square = staticalmeasures(chi_square_dist)\n",
                "\n",
                "# Imprimir resultados\n",
                "print(\"Distribución Normal:\")\n",
                "for key, value in distribucion_normal.items():\n",
                "    print(f\"{key}: {value:.3f}\")\n",
                "\n",
                "print(\"\\nDistribución Chi-Cuadrado:\")\n",
                "for key, value in distribucion_chi_square.items():\n",
                "    print(f\"{key}: {value:.3f}\")"
            ]
        },
        {
            "cell_type": "markdown",
            "id": "46c70c3d",
            "metadata": {},
            "source": [
                "### Exercise 2\n",
                "\n",
                "Write a Python program to calculate the standard deviation of the following data:\n",
                "\n",
                "```py\n",
                "data = [4, 2, 5, 8, 6]\n",
                "```"
            ]
        },
        {
            "cell_type": "code",
            "execution_count": 2,
            "id": "d590308e",
            "metadata": {},
            "outputs": [
                {
                    "name": "stdout",
                    "output_type": "stream",
                    "text": [
                        "Desviacion estandar: 2.000\n"
                    ]
                }
            ],
            "source": [
                "import math\n",
                "\n",
                "data = [4, 2, 5, 8, 6]\n",
                "\n",
                "# Promedio\n",
                "promedio = sum(data) / len(data)\n",
                "\n",
                "# Calcular diferencias al cuadrado de la media\n",
                "squared_diffs = [(x - promedio) ** 2 for x in data]\n",
                "\n",
                "# Varianza\n",
                "varianza = sum(squared_diffs) / len(data)\n",
                "\n",
                "# Step 4: desviacion estandar\n",
                "std_dev = math.sqrt(varianza)\n",
                "\n",
                "print(f\"Desviacion estandar: {std_dev:.3f}\")"
            ]
        }
    ],
    "metadata": {
        "kernelspec": {
            "display_name": "Python 3",
            "language": "python",
            "name": "python3"
        },
        "language_info": {
            "codemirror_mode": {
                "name": "ipython",
                "version": 3
            },
            "file_extension": ".py",
            "mimetype": "text/x-python",
            "name": "python",
            "nbconvert_exporter": "python",
            "pygments_lexer": "ipython3",
            "version": "3.11.4"
        }
    },
    "nbformat": 4,
    "nbformat_minor": 5
}
